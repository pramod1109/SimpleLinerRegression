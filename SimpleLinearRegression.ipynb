{
 "cells": [
  {
   "cell_type": "code",
   "execution_count": 1,
   "metadata": {},
   "outputs": [],
   "source": [
    "import pandas as pd\n",
    "import seaborn as sns\n",
    "from sklearn.linear_model import LinearRegression"
   ]
  },
  {
   "cell_type": "code",
   "execution_count": 2,
   "metadata": {},
   "outputs": [
    {
     "name": "stdout",
     "output_type": "stream",
     "text": [
      "   No_of_working_hours  Marked_scored_by_the_students\n",
      "0                    2                             23\n",
      "1                    3                             35\n",
      "2                    4                             46\n",
      "3                    5                             60\n",
      "4                    6                             65\n",
      "5                    7                             76\n",
      "6                    8                             80\n",
      "7                    9                             86\n",
      "8                   10                             92\n",
      "9                   11                             95\n"
     ]
    }
   ],
   "source": [
    "PackData = pd.read_csv(\"package.csv\")\n",
    "print(PackData)"
   ]
  },
  {
   "cell_type": "code",
   "execution_count": 3,
   "metadata": {},
   "outputs": [
    {
     "name": "stdout",
     "output_type": "stream",
     "text": [
      "13.878787878787882\n",
      "[7.98787879]\n",
      "[89.76363636]\n"
     ]
    }
   ],
   "source": [
    "le = LinearRegression()\n",
    "x = PackData[[\"No_of_working_hours\"]]\n",
    "y = PackData[\"Marked_scored_by_the_students\"]\n",
    "model1 = le.fit(x,y)\n",
    "print(model1.intercept_)\n",
    "print(model1.coef_)\n",
    "n = [[9.5]]\n",
    "print(model1.predict(n))\n",
    "r1 = model1.predict(n)"
   ]
  },
  {
   "cell_type": "code",
   "execution_count": 4,
   "metadata": {},
   "outputs": [
    {
     "data": {
      "image/png": "[encoded data removed]",
      "text/plain": [
       "<Figure size 432x288 with 1 Axes>"
      ]
     },
     "metadata": {
      "needs_background": "light"
     },
     "output_type": "display_data"
    }
   ],
   "source": [
    "ax = sns.regplot(x='No_of_working_hours', y='Marked_scored_by_the_students', data = PackData, fit_reg=False)"
   ]
  }
 ],
 "metadata": {
  "kernelspec": {
   "display_name": "Python 3",
   "language": "python",
   "name": "python3"
  },
  "language_info": {
   "codemirror_mode": {
    "name": "ipython",
    "version": 3
   },
   "file_extension": ".py",
   "mimetype": "text/x-python",
   "name": "python",
   "nbconvert_exporter": "python",
   "pygments_lexer": "ipython3",
   "version": "3.7.3"
  }
 },
 "nbformat": 4,
 "nbformat_minor": 2
}
